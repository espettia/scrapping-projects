{
 "cells": [
  {
   "cell_type": "code",
   "execution_count": 1,
   "id": "27640e66",
   "metadata": {},
   "outputs": [],
   "source": [
    "import csv\n",
    "from getpass import getpass\n",
    "from time import sleep\n",
    "from selenium.webdriver.common.keys import Keys\n",
    "from selenium.common.exceptions import NoSuchElementException\n",
    "from selenium.webdriver import Firefox\n",
    "from selenium.webdriver.common.by import By"
   ]
  },
  {
   "cell_type": "code",
   "execution_count": 2,
   "id": "47ffc117",
   "metadata": {},
   "outputs": [],
   "source": [
    "driver = Firefox()\n",
    "driver.get(\"https://nitter.net/\")"
   ]
  },
  {
   "cell_type": "code",
   "execution_count": 3,
   "id": "d1b2dbf3",
   "metadata": {},
   "outputs": [],
   "source": [
    "user = \"elon musk\"\n",
    "user_in = driver.find_element(by=By.XPATH, value=\"/html/body/div/div/div/form/input[2]\")\n",
    "submit_button = driver.find_element(By.XPATH, value=\"/html/body/div/div/div/form/button/div/span\")\n",
    "user_in.send_keys(user)\n",
    "submit_button.click()\n",
    "sleep(1)"
   ]
  },
  {
   "cell_type": "code",
   "execution_count": 4,
   "id": "297227df",
   "metadata": {},
   "outputs": [],
   "source": [
    "user_prof = driver.find_element(by=By.XPATH, value=\"/html/body/div/div/div[2]/div[1]/div/div[1]/a[2]\")\n",
    "user_prof.click()\n",
    "sleep(1)"
   ]
  },
  {
   "cell_type": "code",
   "execution_count": 5,
   "id": "3cbb7470",
   "metadata": {},
   "outputs": [],
   "source": [
    "\n",
    "handle = driver.find_element(by=By.XPATH, value=\"/html/body/div/div/div[2]/div[1]/div[1]/div/a[2]\").text\n",
    "header=['Fecha','Texto','Comentarios','Retweets','Guardados','Likes']\n",
    "posts=[]\n",
    "\n",
    "min_posts=0\n",
    "for k in range(3):\n",
    "    if k>0:\n",
    "        min_posts=1\n",
    "    for i in range(min_posts, 20):  \n",
    "        date = driver.find_element(by=By.XPATH, value=\"/html/body/div/div/div[3]/div/div[\"+str(i+1)+\"]/div/div[1]/div/div/span/a\").get_attribute('title')\n",
    "        texto=driver.find_element(by=By.XPATH, value=\"/html/body/div/div/div[3]/div/div[\"+str(i+1)+\"]/div/div[2]\").text\n",
    "        divisor=3\n",
    "        try:\n",
    "            stat = driver.find_element(by=By.XPATH, value=\"/html/body/div/div/div[3]/div/div[\"+str(i+1)+\"]/div/div[\"+str(divisor)+\"]/span[\"+str(1)+\"]/div\").text\n",
    "        except NoSuchElementException:\n",
    "            divisor+=1\n",
    "        post=[date,texto]\n",
    "        for j in range(4):\n",
    "            stat = driver.find_element(by=By.XPATH, value=\"/html/body/div/div/div[3]/div/div[\"+str(i+1)+\"]/div/div[\"+str(divisor)+\"]/span[\"+str(j+1)+\"]/div\").text\n",
    "            post.append(stat)\n",
    "        posts.append(post)\n",
    "    next_button = driver.find_element(By.XPATH, value=\"//*[text()='Load more']\")\n",
    "    next_button.click()\n",
    "    sleep(1)\n",
    "\n",
    "with open(handle+\".csv\",'w',newline='',encoding='utf-8') as f:\n",
    "    writer = csv.writer(f)\n",
    "    writer.writerow([handle])\n",
    "    writer.writerow(header)\n",
    "    writer.writerows(posts)"
   ]
  },
  {
   "cell_type": "code",
   "execution_count": null,
   "id": "2f7008b2",
   "metadata": {},
   "outputs": [],
   "source": []
  }
 ],
 "metadata": {
  "kernelspec": {
   "display_name": "Python 3 (ipykernel)",
   "language": "python",
   "name": "python3"
  },
  "language_info": {
   "codemirror_mode": {
    "name": "ipython",
    "version": 3
   },
   "file_extension": ".py",
   "mimetype": "text/x-python",
   "name": "python",
   "nbconvert_exporter": "python",
   "pygments_lexer": "ipython3",
   "version": "3.10.12"
  }
 },
 "nbformat": 4,
 "nbformat_minor": 5
}
