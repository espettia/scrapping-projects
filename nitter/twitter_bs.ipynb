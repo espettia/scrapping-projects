{
 "cells": [
  {
   "cell_type": "code",
   "execution_count": 31,
   "id": "27640e66",
   "metadata": {},
   "outputs": [],
   "source": [
    "import csv\n",
    "import requests\n",
    "from bs4 import BeautifulSoup"
   ]
  },
  {
   "cell_type": "code",
   "execution_count": null,
   "id": "81153fa8",
   "metadata": {},
   "outputs": [],
   "source": [
    "search_user = 'alejandro toledo'"
   ]
  },
  {
   "cell_type": "code",
   "execution_count": 32,
   "id": "f61c7025",
   "metadata": {},
   "outputs": [],
   "source": [
    "headers = {\n",
    "    'authority': 'nitter.net',\n",
    "    'accept': 'text/html,application/xhtml+xml,application/xml;q=0.9,image/avif,image/webp,image/apng,*/*;q=0.8',\n",
    "    'accept-language': 'en-US,en;q=0.6',\n",
    "    'cache-control': 'no-cache',\n",
    "    'pragma': 'no-cache',\n",
    "    'sec-ch-ua': '\"Chromium\";v=\"116\", \"Not)A;Brand\";v=\"24\", \"Brave\";v=\"116\"',\n",
    "    'sec-ch-ua-mobile': '?0',\n",
    "    'sec-ch-ua-platform': '\"Linux\"',\n",
    "    'sec-fetch-dest': 'document',\n",
    "    'sec-fetch-mode': 'navigate',\n",
    "    'sec-fetch-site': 'none',\n",
    "    'sec-fetch-user': '?1',\n",
    "    'sec-gpc': '1',\n",
    "    'upgrade-insecure-requests': '1',\n",
    "    'user-agent': 'Mozilla/5.0 (X11; Linux x86_64) AppleWebKit/537.36 (KHTML, like Gecko) Chrome/116.0.0.0 Safari/537.36',\n",
    "}\n",
    "\n",
    "params = {\n",
    "    'f': 'users',\n",
    "    'q': search_user,\n",
    "}\n",
    "\n",
    "search_link = 'https://nitter.net/search'\n",
    "\n",
    "response = requests.get(search_link, params=params, headers=headers)"
   ]
  },
  {
   "cell_type": "code",
   "execution_count": 35,
   "id": "297227df",
   "metadata": {},
   "outputs": [],
   "source": [
    "soup = BeautifulSoup(response.text,'html.parser')"
   ]
  },
  {
   "cell_type": "code",
   "execution_count": 57,
   "id": "2f7008b2",
   "metadata": {},
   "outputs": [],
   "source": [
    "profile_link = 'https://nitter.net'+soup.find(class_='tweet-link')['href']"
   ]
  },
  {
   "cell_type": "code",
   "execution_count": 58,
   "id": "d64b6220",
   "metadata": {},
   "outputs": [],
   "source": [
    "response = requests.get(profile_link, params=params, headers=headers)"
   ]
  },
  {
   "cell_type": "code",
   "execution_count": 139,
   "id": "713c2007",
   "metadata": {},
   "outputs": [],
   "source": [
    "soup = BeautifulSoup(response.text,'html.parser')"
   ]
  },
  {
   "cell_type": "code",
   "execution_count": null,
   "id": "3aa41842",
   "metadata": {},
   "outputs": [],
   "source": [
    "import re"
   ]
  },
  {
   "cell_type": "code",
   "execution_count": 146,
   "id": "7f584ac8",
   "metadata": {},
   "outputs": [],
   "source": [
    "posts_text = [d.text for d in soup.find_all(class_='tweet-content')]\n",
    "posts_date = [d.contents for d in soup.find_all(class_='tweet-date')]\n",
    "posts_nlikes = [d.text for d in soup.find_all(class_='tweet-stats')]\n",
    "posts_ncomments = []\n",
    "posts_nreposts = []\n",
    "\n",
    "profile_nfollowers = []\n",
    "profile_ntweets = []\n",
    "profile_nfolowwing = []\n",
    "profile_nlikes = []\n",
    "#icon-comment\n"
   ]
  },
  {
   "cell_type": "code",
   "execution_count": 147,
   "id": "406432d0",
   "metadata": {},
   "outputs": [
    {
     "data": {
      "text/plain": [
       "['\\n 1\\n\\n\\n\\n 0\\n',\n",
       " '\\n 1\\n 1\\n 1\\n 2\\n 0\\n',\n",
       " '\\n 2\\n\\n\\n\\n 0\\n',\n",
       " '\\n\\n\\n\\n 1\\n 0\\n',\n",
       " '\\n 10\\n\\n 1\\n 1\\n 0\\n',\n",
       " '\\n\\n\\n\\n 1\\n 0\\n',\n",
       " '\\n 1\\n\\n\\n\\n 0\\n',\n",
       " '\\n 1\\n\\n\\n 1\\n 0\\n',\n",
       " '\\n 2\\n\\n 1\\n 2\\n 0\\n',\n",
       " '\\n 1\\n\\n\\n 1\\n 0\\n',\n",
       " '\\n 2\\n\\n\\n 1\\n 0\\n',\n",
       " '\\n 5\\n\\n\\n 2\\n 0\\n',\n",
       " '\\n 2\\n\\n\\n 2\\n 0\\n',\n",
       " '\\n 11\\n 1\\n 1\\n 3\\n 0\\n',\n",
       " '\\n 1\\n\\n\\n\\n 0\\n',\n",
       " '\\n 3\\n\\n\\n 3\\n 0\\n',\n",
       " '\\n 8\\n 1\\n 1\\n 2\\n 0\\n',\n",
       " '\\n\\n 2\\n 1\\n 4\\n 0\\n',\n",
       " '\\n\\n\\n 1\\n\\n 0\\n',\n",
       " '\\n\\n\\n\\n 1\\n']"
      ]
     },
     "execution_count": 147,
     "metadata": {},
     "output_type": "execute_result"
    }
   ],
   "source": [
    "posts_nlikes"
   ]
  },
  {
   "cell_type": "code",
   "execution_count": 116,
   "id": "3489be32",
   "metadata": {},
   "outputs": [],
   "source": [
    "d = soup.find(class_='tweet-date')"
   ]
  },
  {
   "cell_type": "code",
   "execution_count": 119,
   "id": "35fc2959",
   "metadata": {},
   "outputs": [
    {
     "data": {
      "text/plain": [
       "<div class=\"tweet-stats\">\n",
       "<span class=\"tweet-stat\"><div class=\"icon-container\"><span class=\"icon-comment\" title=\"\"></span> 1</div></span>\n",
       "<span class=\"tweet-stat\"><div class=\"icon-container\"><span class=\"icon-retweet\" title=\"\"></span></div></span>\n",
       "<span class=\"tweet-stat\"><div class=\"icon-container\"><span class=\"icon-quote\" title=\"\"></span></div></span>\n",
       "<span class=\"tweet-stat\"><div class=\"icon-container\"><span class=\"icon-heart\" title=\"\"></span></div></span>\n",
       "<span class=\"tweet-stat\"><div class=\"icon-container\"><span class=\"icon-play\" title=\"\"></span> 0</div></span>\n",
       "</div>"
      ]
     },
     "execution_count": 119,
     "metadata": {},
     "output_type": "execute_result"
    }
   ],
   "source": [
    "d.contents"
   ]
  },
  {
   "cell_type": "code",
   "execution_count": 75,
   "id": "3d5094e5",
   "metadata": {},
   "outputs": [
    {
     "data": {
      "text/plain": [
       "'Sep 29, 2023 · 8:46 AM UTC'"
      ]
     },
     "execution_count": 75,
     "metadata": {},
     "output_type": "execute_result"
    }
   ],
   "source": [
    "d.contents[0]['title']"
   ]
  },
  {
   "cell_type": "code",
   "execution_count": 126,
   "id": "571dd7db",
   "metadata": {},
   "outputs": [],
   "source": [
    "d = soup.find(class_='tweet-stats').find_all(True)"
   ]
  },
  {
   "cell_type": "code",
   "execution_count": 128,
   "id": "1d5f2b0c",
   "metadata": {},
   "outputs": [
    {
     "ename": "AttributeError",
     "evalue": "ResultSet object has no attribute 'get_text'. You're probably treating a list of elements like a single element. Did you call find_all() when you meant to call find()?",
     "output_type": "error",
     "traceback": [
      "\u001b[0;31m---------------------------------------------------------------------------\u001b[0m",
      "\u001b[0;31mAttributeError\u001b[0m                            Traceback (most recent call last)",
      "Cell \u001b[0;32mIn[128], line 1\u001b[0m\n\u001b[0;32m----> 1\u001b[0m d\u001b[38;5;241m.\u001b[39mget_text()\n",
      "File \u001b[0;32m~/anaconda3/lib/python3.11/site-packages/bs4/element.py:2428\u001b[0m, in \u001b[0;36mResultSet.__getattr__\u001b[0;34m(self, key)\u001b[0m\n\u001b[1;32m   2426\u001b[0m \u001b[38;5;28;01mdef\u001b[39;00m \u001b[38;5;21m__getattr__\u001b[39m(\u001b[38;5;28mself\u001b[39m, key):\n\u001b[1;32m   2427\u001b[0m \u001b[38;5;250m    \u001b[39m\u001b[38;5;124;03m\"\"\"Raise a helpful exception to explain a common code fix.\"\"\"\u001b[39;00m\n\u001b[0;32m-> 2428\u001b[0m     \u001b[38;5;28;01mraise\u001b[39;00m \u001b[38;5;167;01mAttributeError\u001b[39;00m(\n\u001b[1;32m   2429\u001b[0m         \u001b[38;5;124m\"\u001b[39m\u001b[38;5;124mResultSet object has no attribute \u001b[39m\u001b[38;5;124m'\u001b[39m\u001b[38;5;132;01m%s\u001b[39;00m\u001b[38;5;124m'\u001b[39m\u001b[38;5;124m. You\u001b[39m\u001b[38;5;124m'\u001b[39m\u001b[38;5;124mre probably treating a list of elements like a single element. Did you call find_all() when you meant to call find()?\u001b[39m\u001b[38;5;124m\"\u001b[39m \u001b[38;5;241m%\u001b[39m key\n\u001b[1;32m   2430\u001b[0m     )\n",
      "\u001b[0;31mAttributeError\u001b[0m: ResultSet object has no attribute 'get_text'. You're probably treating a list of elements like a single element. Did you call find_all() when you meant to call find()?"
     ]
    }
   ],
   "source": [
    "d.get_text()"
   ]
  },
  {
   "cell_type": "code",
   "execution_count": null,
   "id": "53a13329",
   "metadata": {},
   "outputs": [],
   "source": []
  }
 ],
 "metadata": {
  "kernelspec": {
   "display_name": "Python 3 (ipykernel)",
   "language": "python",
   "name": "python3"
  },
  "language_info": {
   "codemirror_mode": {
    "name": "ipython",
    "version": 3
   },
   "file_extension": ".py",
   "mimetype": "text/x-python",
   "name": "python",
   "nbconvert_exporter": "python",
   "pygments_lexer": "ipython3",
   "version": "3.11.4"
  }
 },
 "nbformat": 4,
 "nbformat_minor": 5
}
