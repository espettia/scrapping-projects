{
 "cells": [
  {
   "cell_type": "code",
   "execution_count": 22,
   "id": "93516268",
   "metadata": {},
   "outputs": [],
   "source": [
    "import pandas as pd\n",
    "from tweety import Twitter"
   ]
  },
  {
   "cell_type": "markdown",
   "id": "56c5a0cc",
   "metadata": {},
   "source": [
    "#Pulling and example tweet"
   ]
  },
  {
   "cell_type": "code",
   "execution_count": 24,
   "id": "8038b3a8",
   "metadata": {},
   "outputs": [
    {
     "name": "stdout",
     "output_type": "stream",
     "text": [
      "Tweet(id=1566580246270418944, author=User(id=4020276615, username=JMilei, name=Javier Milei, verified=True), created_on=2022-09-05 00:13:31+00:00)\n",
      "Tweet(id=1586891435550334976, author=User(id=4020276615, username=JMilei, name=Javier Milei, verified=True), created_on=2022-10-31 01:22:55+00:00)\n",
      "Tweet(id=1303117736562823168, author=User(id=4020276615, username=JMilei, name=Javier Milei, verified=True), created_on=2020-09-07 23:47:33+00:00)\n",
      "Tweet(id=1186091594501505025, author=User(id=4020276615, username=JMilei, name=Javier Milei, verified=True), created_on=2019-10-21 01:27:27+00:00)\n",
      "Tweet(id=1437170191880888320, author=User(id=4020276615, username=JMilei, name=Javier Milei, verified=True), created_on=2021-09-12 21:44:09+00:00)\n",
      "Tweet(id=1566117466316701702, author=User(id=4020276615, username=JMilei, name=Javier Milei, verified=True), created_on=2022-09-03 17:34:35+00:00)\n",
      "Tweet(id=1437046631740977153, author=User(id=4020276615, username=JMilei, name=Javier Milei, verified=True), created_on=2021-09-12 13:33:10+00:00)\n",
      "Tweet(id=1051478885790040065, author=User(id=4020276615, username=JMilei, name=Javier Milei, verified=True), created_on=2018-10-14 14:24:36+00:00)\n",
      "Tweet(id=1678227891002171393, author=User(id=4020276615, username=JMilei, name=Javier Milei, verified=True), created_on=2023-07-10 02:21:23+00:00)\n",
      "Tweet(id=1160733006702813185, author=User(id=4020276615, username=JMilei, name=Javier Milei, verified=True), created_on=2019-08-12 02:01:28+00:00)\n",
      "Tweet(id=1391213163811639296, author=User(id=4020276615, username=JMilei, name=Javier Milei, verified=True), created_on=2021-05-09 02:07:20+00:00)\n",
      "Tweet(id=1208199378839703552, author=User(id=4020276615, username=JMilei, name=Javier Milei, verified=True), created_on=2019-12-21 01:35:53+00:00)\n",
      "Tweet(id=1643396661148893190, author=User(id=4020276615, username=JMilei, name=Javier Milei, verified=True), created_on=2023-04-04 23:34:31+00:00)\n",
      "Tweet(id=1617466996697841664, author=User(id=4020276615, username=JMilei, name=Javier Milei, verified=True), created_on=2023-01-23 10:19:17+00:00)\n",
      "Tweet(id=1574167786674442240, author=User(id=4020276615, username=JMilei, name=Javier Milei, verified=True), created_on=2022-09-25 22:43:41+00:00)\n",
      "Tweet(id=1462631225143615491, author=User(id=4020276615, username=JMilei, name=Javier Milei, verified=True), created_on=2021-11-22 03:57:13+00:00)\n",
      "Tweet(id=1689650841333256192, author=User(id=4020276615, username=JMilei, name=Javier Milei, verified=True), created_on=2023-08-10 14:52:07+00:00)\n",
      "Tweet(id=1314732120984739840, author=User(id=4020276615, username=JMilei, name=Javier Milei, verified=True), created_on=2020-10-10 00:58:58+00:00)\n",
      "Tweet(id=1689325624425320448, author=User(id=4020276615, username=JMilei, name=Javier Milei, verified=True), created_on=2023-08-09 17:19:49+00:00)\n",
      "Tweet(id=1567649518644039681, author=User(id=4020276615, username=JMilei, name=Javier Milei, verified=True), created_on=2022-09-07 23:02:25+00:00)\n",
      "Tweet(id=1270538995001446400, author=User(id=4020276615, username=JMilei, name=Javier Milei, verified=True), created_on=2020-06-10 02:11:16+00:00)\n",
      "Tweet(id=1195178266375737345, author=User(id=4020276615, username=JMilei, name=Javier Milei, verified=True), created_on=2019-11-15 03:14:38+00:00)\n",
      "Tweet(id=1567594084050640898, author=User(id=4020276615, username=JMilei, name=Javier Milei, verified=True), created_on=2022-09-07 19:22:08+00:00)\n",
      "Tweet(id=1272868921075535874, author=User(id=4020276615, username=JMilei, name=Javier Milei, verified=True), created_on=2020-06-16 12:29:34+00:00)\n",
      "Tweet(id=1242605932854554626, author=User(id=4020276615, username=JMilei, name=Javier Milei, verified=True), created_on=2020-03-25 00:15:15+00:00)\n",
      "Tweet(id=1194945268816461824, author=User(id=4020276615, username=JMilei, name=Javier Milei, verified=True), created_on=2019-11-14 11:48:47+00:00)\n",
      "Tweet(id=1677155805915668480, author=User(id=4020276615, username=JMilei, name=Javier Milei, verified=True), created_on=2023-07-07 03:21:18+00:00)\n",
      "Tweet(id=1686374985340981248, author=User(id=4020276615, username=JMilei, name=Javier Milei, verified=True), created_on=2023-08-01 13:55:02+00:00)\n",
      "Tweet(id=1600549789946593304, author=User(id=4020276615, username=JMilei, name=Javier Milei, verified=True), created_on=2022-12-07 17:56:21+00:00)\n",
      "Tweet(id=1651718634564190211, author=User(id=4020276615, username=JMilei, name=Javier Milei, verified=True), created_on=2023-04-27 22:43:04+00:00)\n",
      "Tweet(id=1672399380614094848, author=User(id=4020276615, username=JMilei, name=Javier Milei, verified=True), created_on=2023-06-24 00:20:58+00:00)\n",
      "Tweet(id=1206533303395930112, author=User(id=4020276615, username=JMilei, name=Javier Milei, verified=True), created_on=2019-12-16 11:15:30+00:00)\n",
      "Tweet(id=1638674699184922624, author=User(id=4020276615, username=JMilei, name=Javier Milei, verified=True), created_on=2023-03-22 22:51:08+00:00)\n",
      "Tweet(id=1561823366411161602, author=User(id=4020276615, username=JMilei, name=Javier Milei, verified=True), created_on=2022-08-22 21:11:22+00:00)\n",
      "Tweet(id=1681465946270040064, author=User(id=4020276615, username=JMilei, name=Javier Milei, verified=True), created_on=2023-07-19 00:48:16+00:00)\n",
      "Tweet(id=1160519482747621376, author=User(id=4020276615, username=JMilei, name=Javier Milei, verified=True), created_on=2019-08-11 11:53:00+00:00)\n",
      "Tweet(id=1437446945736380426, author=User(id=4020276615, username=JMilei, name=Javier Milei, verified=True), created_on=2021-09-13 16:03:52+00:00)\n",
      "Tweet(id=1676618497923641345, author=User(id=4020276615, username=JMilei, name=Javier Milei, verified=True), created_on=2023-07-05 15:46:14+00:00)\n",
      "Tweet(id=1631851710174973953, author=User(id=4020276615, username=JMilei, name=Javier Milei, verified=True), created_on=2023-03-04 02:59:00+00:00)\n",
      "Tweet(id=1672711593619079170, author=User(id=4020276615, username=JMilei, name=Javier Milei, verified=True), created_on=2023-06-24 21:01:36+00:00)\n",
      "Tweet(id=1194014701128241152, author=User(id=4020276615, username=JMilei, name=Javier Milei, verified=True), created_on=2019-11-11 22:11:03+00:00)\n",
      "Tweet(id=1241701490387038208, author=User(id=4020276615, username=JMilei, name=Javier Milei, verified=True), created_on=2020-03-22 12:21:19+00:00)\n",
      "Tweet(id=1468583993356345345, author=User(id=4020276615, username=JMilei, name=Javier Milei, verified=True), created_on=2021-12-08 14:11:23+00:00)\n",
      "Tweet(id=1518784890174464001, author=User(id=4020276615, username=JMilei, name=Javier Milei, verified=True), created_on=2022-04-26 02:51:50+00:00)\n",
      "Tweet(id=1466495887585075207, author=User(id=4020276615, username=JMilei, name=Javier Milei, verified=True), created_on=2021-12-02 19:54:00+00:00)\n",
      "Tweet(id=1650908439202222080, author=User(id=4020276615, username=JMilei, name=Javier Milei, verified=True), created_on=2023-04-25 17:03:38+00:00)\n",
      "Tweet(id=1517501885967646721, author=User(id=4020276615, username=JMilei, name=Javier Milei, verified=True), created_on=2022-04-22 13:53:38+00:00)\n",
      "Tweet(id=1424792058414436352, author=User(id=4020276615, username=JMilei, name=Javier Milei, verified=True), created_on=2021-08-09 17:57:52+00:00)\n",
      "Tweet(id=1688732463122558976, author=User(id=4020276615, username=JMilei, name=Javier Milei, verified=True), created_on=2023-08-08 02:02:48+00:00)\n",
      "Tweet(id=1651596015978389508, author=User(id=4020276615, username=JMilei, name=Javier Milei, verified=True), created_on=2023-04-27 14:35:50+00:00)\n",
      "Tweet(id=1123408627270848512, author=User(id=4020276615, username=JMilei, name=Javier Milei, verified=True), created_on=2019-05-01 02:07:43+00:00)\n",
      "Tweet(id=1596686287288864768, author=User(id=4020276615, username=JMilei, name=Javier Milei, verified=True), created_on=2022-11-27 02:04:10+00:00)\n",
      "Tweet(id=1555721384227225601, author=User(id=4020276615, username=JMilei, name=Javier Milei, verified=True), created_on=2022-08-06 01:04:16+00:00)\n",
      "Tweet(id=1649801922847621123, author=User(id=4020276615, username=JMilei, name=Javier Milei, verified=True), created_on=2023-04-22 15:46:44+00:00)\n",
      "Tweet(id=1655389464095518720, author=User(id=4020276615, username=JMilei, name=Javier Milei, verified=True), created_on=2023-05-08 01:49:38+00:00)\n",
      "Tweet(id=1255255858260455426, author=User(id=4020276615, username=JMilei, name=Javier Milei, verified=True), created_on=2020-04-28 22:01:32+00:00)\n",
      "Tweet(id=1312962432302821377, author=User(id=4020276615, username=JMilei, name=Javier Milei, verified=True), created_on=2020-10-05 03:46:52+00:00)\n",
      "Tweet(id=1639711390121222144, author=User(id=4020276615, username=JMilei, name=Javier Milei, verified=True), created_on=2023-03-25 19:30:34+00:00)\n",
      "Tweet(id=1135516431737597952, author=User(id=4020276615, username=JMilei, name=Javier Milei, verified=True), created_on=2019-06-03 11:59:48+00:00)\n",
      "Tweet(id=1601335605195333632, author=User(id=4020276615, username=JMilei, name=Javier Milei, verified=True), created_on=2022-12-09 21:58:54+00:00)\n",
      "Tweet(id=1304078745872015361, author=User(id=4020276615, username=JMilei, name=Javier Milei, verified=True), created_on=2020-09-10 15:26:16+00:00)\n",
      "Tweet(id=1643687635825696793, author=User(id=4020276615, username=JMilei, name=Javier Milei, verified=True), created_on=2023-04-05 18:50:45+00:00)\n",
      "Tweet(id=1677472327691382785, author=User(id=4020276615, username=JMilei, name=Javier Milei, verified=True), created_on=2023-07-08 00:19:03+00:00)\n",
      "Tweet(id=1273815038080552962, author=User(id=4020276615, username=JMilei, name=Javier Milei, verified=True), created_on=2020-06-19 03:09:06+00:00)\n",
      "Tweet(id=1625454236711501824, author=User(id=4020276615, username=JMilei, name=Javier Milei, verified=True), created_on=2023-02-14 11:17:44+00:00)\n",
      "Tweet(id=1183698159916199936, author=User(id=4020276615, username=JMilei, name=Javier Milei, verified=True), created_on=2019-10-14 10:56:48+00:00)\n",
      "Tweet(id=1653457490187624450, author=User(id=4020276615, username=JMilei, name=Javier Milei, verified=True), created_on=2023-05-02 17:52:40+00:00)\n",
      "Tweet(id=1306023787125764096, author=User(id=4020276615, username=JMilei, name=Javier Milei, verified=True), created_on=2020-09-16 00:15:10+00:00)\n",
      "Tweet(id=1214351452707135488, author=User(id=4020276615, username=JMilei, name=Javier Milei, verified=True), created_on=2020-01-07 01:02:02+00:00)\n",
      "Tweet(id=1673814833328791554, author=User(id=4020276615, username=JMilei, name=Javier Milei, verified=True), created_on=2023-06-27 22:05:28+00:00)\n",
      "Tweet(id=1685026938321035264, author=User(id=4020276615, username=JMilei, name=Javier Milei, verified=True), created_on=2023-07-28 20:38:23+00:00)\n",
      "Tweet(id=1676953525245587458, author=User(id=4020276615, username=JMilei, name=Javier Milei, verified=True), created_on=2023-07-06 13:57:31+00:00)\n",
      "Tweet(id=1639685938329657347, author=User(id=4020276615, username=JMilei, name=Javier Milei, verified=True), created_on=2023-03-25 17:49:26+00:00)\n",
      "Tweet(id=1298276844219904001, author=User(id=4020276615, username=JMilei, name=Javier Milei, verified=True), created_on=2020-08-25 15:11:35+00:00)\n",
      "Tweet(id=1244440812223676417, author=User(id=4020276615, username=JMilei, name=Javier Milei, verified=True), created_on=2020-03-30 01:46:24+00:00)\n",
      "Tweet(id=1207031837173911552, author=User(id=4020276615, username=JMilei, name=Javier Milei, verified=True), created_on=2019-12-17 20:16:30+00:00)\n",
      "Tweet(id=1311403763010281472, author=User(id=4020276615, username=JMilei, name=Javier Milei, verified=True), created_on=2020-09-30 20:33:16+00:00)\n",
      "Tweet(id=1485799865703616517, author=User(id=4020276615, username=JMilei, name=Javier Milei, verified=True), created_on=2022-01-25 02:21:07+00:00)\n",
      "Tweet(id=1207778096608399366, author=User(id=4020276615, username=JMilei, name=Javier Milei, verified=True), created_on=2019-12-19 21:41:52+00:00)\n",
      "Tweet(id=1188398759438438400, author=User(id=4020276615, username=JMilei, name=Javier Milei, verified=True), created_on=2019-10-27 10:15:18+00:00)\n",
      "Tweet(id=1206902774941855745, author=User(id=4020276615, username=JMilei, name=Javier Milei, verified=True), created_on=2019-12-17 11:43:39+00:00)\n",
      "Tweet(id=1689277896450297858, author=User(id=4020276615, username=JMilei, name=Javier Milei, verified=True), created_on=2023-08-09 14:10:10+00:00)\n",
      "Tweet(id=1580560181804429313, author=User(id=4020276615, username=JMilei, name=Javier Milei, verified=True), created_on=2022-10-13 14:04:47+00:00)\n",
      "Tweet(id=1630009427364282369, author=User(id=4020276615, username=JMilei, name=Javier Milei, verified=True), created_on=2023-02-27 00:58:26+00:00)\n",
      "Tweet(id=1570536655261671424, author=User(id=4020276615, username=JMilei, name=Javier Milei, verified=True), created_on=2022-09-15 22:14:52+00:00)\n",
      "Tweet(id=1306064630482165760, author=User(id=4020276615, username=JMilei, name=Javier Milei, verified=True), created_on=2020-09-16 02:57:28+00:00)\n",
      "Tweet(id=1366424991361859586, author=User(id=4020276615, username=JMilei, name=Javier Milei, verified=True), created_on=2021-03-01 16:27:59+00:00)\n",
      "Tweet(id=1601547977314926594, author=User(id=4020276615, username=JMilei, name=Javier Milei, verified=True), created_on=2022-12-10 12:02:47+00:00)\n",
      "Tweet(id=1325117447381409792, author=User(id=4020276615, username=JMilei, name=Javier Milei, verified=True), created_on=2020-11-07 16:46:33+00:00)\n",
      "Tweet(id=1689819378387189760, author=User(id=4020276615, username=JMilei, name=Javier Milei, verified=True), created_on=2023-08-11 02:01:49+00:00)\n",
      "Tweet(id=1269717443859136513, author=User(id=4020276615, username=JMilei, name=Javier Milei, verified=True), created_on=2020-06-07 19:46:43+00:00)\n",
      "Tweet(id=1278748761364271105, author=User(id=4020276615, username=JMilei, name=Javier Milei, verified=True), created_on=2020-07-02 17:53:57+00:00)\n",
      "Tweet(id=1647795469316128769, author=User(id=4020276615, username=JMilei, name=Javier Milei, verified=True), created_on=2023-04-17 02:53:49+00:00)\n",
      "Tweet(id=1679678360891400194, author=User(id=4020276615, username=JMilei, name=Javier Milei, verified=True), created_on=2023-07-14 02:25:02+00:00)\n",
      "Tweet(id=1437828496743612417, author=User(id=4020276615, username=JMilei, name=Javier Milei, verified=True), created_on=2021-09-14 17:20:01+00:00)\n",
      "Tweet(id=1641793795430703104, author=User(id=4020276615, username=JMilei, name=Javier Milei, verified=True), created_on=2023-03-31 13:25:18+00:00)\n",
      "Tweet(id=1689668872406724612, author=User(id=4020276615, username=JMilei, name=Javier Milei, verified=True), created_on=2023-08-10 16:03:46+00:00)\n",
      "Tweet(id=1251126012404011009, author=User(id=4020276615, username=JMilei, name=Javier Milei, verified=True), created_on=2020-04-17 12:31:00+00:00)\n",
      "Tweet(id=1679210541770764300, author=User(id=4020276615, username=JMilei, name=Javier Milei, verified=True), created_on=2023-07-12 19:26:06+00:00)\n"
     ]
    }
   ],
   "source": [
    "app = Twitter(\"session\")\n",
    "\n",
    "all_tweets = app.get_tweets(\"JMilei\")\n",
    "for tweet in all_tweets:\n",
    "  print(tweet)"
   ]
  },
  {
   "cell_type": "code",
   "execution_count": null,
   "id": "c2338677",
   "metadata": {},
   "outputs": [],
   "source": [
    "app = Twitter(\"session\")\n",
    "\n",
    "all_tweets = app.get_tweets(\"JMilei\")\n",
    "for tweet in all_tweets:\n",
    "  print(tweet)"
   ]
  }
 ],
 "metadata": {
  "kernelspec": {
   "display_name": "Python 3 (ipykernel)",
   "language": "python",
   "name": "python3"
  },
  "language_info": {
   "codemirror_mode": {
    "name": "ipython",
    "version": 3
   },
   "file_extension": ".py",
   "mimetype": "text/x-python",
   "name": "python",
   "nbconvert_exporter": "python",
   "pygments_lexer": "ipython3",
   "version": "3.10.12"
  }
 },
 "nbformat": 4,
 "nbformat_minor": 5
}
